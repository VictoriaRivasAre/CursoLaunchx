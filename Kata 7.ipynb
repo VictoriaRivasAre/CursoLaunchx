{
 "cells": [
  {
   "cell_type": "code",
   "execution_count": 11,
   "metadata": {},
   "outputs": [],
   "source": [
    "#Ejercicio 1\n",
    "# Declaración de variables\n",
    "new_planet = ''\n",
    "planets = []\n",
    "\n",
    "# Ciclo While\n",
    "while new_planet.lower() != 'done':\n",
    "\n",
    "    if new_planet:\n",
    "\n",
    "        planets.append(new_planet)\n",
    "\n",
    "    new_planet = input('ingresa un nuevo planeta o escribe done')"
   ]
  },
  {
   "cell_type": "code",
   "execution_count": 12,
   "metadata": {},
   "outputs": [
    {
     "name": "stdout",
     "output_type": "stream",
     "text": [
      "tieera\n",
      "jupiter\n"
     ]
    }
   ],
   "source": [
    "#Ejercicio 2\n",
    "# Declaración For\n",
    "for planet in planets:\n",
    "    print(planet)"
   ]
  }
 ],
 "metadata": {
  "interpreter": {
   "hash": "ae305f4dee197bdc0c916b004f5792eca0da2328f3eb5fe8e31b308819fc7eb2"
  },
  "kernelspec": {
   "display_name": "Python 3.10.2 64-bit",
   "language": "python",
   "name": "python3"
  },
  "language_info": {
   "codemirror_mode": {
    "name": "ipython",
    "version": 3
   },
   "file_extension": ".py",
   "mimetype": "text/x-python",
   "name": "python",
   "nbconvert_exporter": "python",
   "pygments_lexer": "ipython3",
   "version": "3.10.2"
  },
  "orig_nbformat": 4
 },
 "nbformat": 4,
 "nbformat_minor": 2
}
