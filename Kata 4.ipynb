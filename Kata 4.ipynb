{
 "cells": [
  {
   "cell_type": "code",
   "execution_count": 1,
   "metadata": {},
   "outputs": [
    {
     "data": {
      "text/plain": [
       "'Interesting Facts About The Moon'"
      ]
     },
     "execution_count": 1,
     "metadata": {},
     "output_type": "execute_result"
    }
   ],
   "source": [
    "heading = 'interesting facts about the Moon'\n",
    "heading.title()"
   ]
  },
  {
   "cell_type": "code",
   "execution_count": 4,
   "metadata": {},
   "outputs": [
    {
     "name": "stdout",
     "output_type": "stream",
     "text": [
      "Interesting facts about the Moon:\n",
      "The Moon is Earth's only satelite\n",
      "There are several interesting facts about the Moon and how it affects life here on Earth. \n",
      "On average the Moon moves 4cm away from the Earth every year.\n",
      "This yearly drift is not significant enough to cause immediate effects on Earth\n",
      "The highest day 1\n"
     ]
    }
   ],
   "source": [
    "multiline = \"\"\"Interesting facts about the Moon:\n",
    "The Moon is Earth's only satelite\n",
    "There are several interesting facts about the Moon and how it affects life here on Earth. \n",
    "On average the Moon moves 4cm away from the Earth every year.\n",
    "This yearly drift is not significant enough to cause immediate effects on Earth\n",
    "The highest day 1\"\"\"\n",
    "print(multiline)"
   ]
  }
 ],
 "metadata": {
  "interpreter": {
   "hash": "ae305f4dee197bdc0c916b004f5792eca0da2328f3eb5fe8e31b308819fc7eb2"
  },
  "kernelspec": {
   "display_name": "Python 3.10.2 64-bit",
   "language": "python",
   "name": "python3"
  },
  "language_info": {
   "codemirror_mode": {
    "name": "ipython",
    "version": 3
   },
   "file_extension": ".py",
   "mimetype": "text/x-python",
   "name": "python",
   "nbconvert_exporter": "python",
   "pygments_lexer": "ipython3",
   "version": "3.10.2"
  },
  "orig_nbformat": 4
 },
 "nbformat": 4,
 "nbformat_minor": 2
}
