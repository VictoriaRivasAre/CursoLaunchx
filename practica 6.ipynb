{
 "cells": [
  {
   "cell_type": "code",
   "execution_count": 5,
   "metadata": {},
   "outputs": [
    {
     "name": "stdout",
     "output_type": "stream",
     "text": [
      "Hijo mayor Leonardo\n",
      "Hijo mediano Rebecca\n",
      "Hijo menor Fatima\n"
     ]
    }
   ],
   "source": [
    "# Crear lista\n",
    "Hijos = ['Leonardo', 'Rebecca', 'Fatima']\n",
    "print('Hijo mayor', Hijos[0])\n",
    "print('Hijo mediano', Hijos[1])\n",
    "print('Hijo menor', Hijos[2])"
   ]
  },
  {
   "cell_type": "code",
   "execution_count": 20,
   "metadata": {},
   "outputs": [
    {
     "name": "stdout",
     "output_type": "stream",
     "text": [
      "Leonardo es el 1 primero\n"
     ]
    }
   ],
   "source": [
    "# Buscar valor en una lista\n",
    "#Metodo: index()\n",
    "Leonardo_index = Hijos.index('Leonardo')\n",
    "print('Leonardo es el', Leonardo_index + 1, 'primero')"
   ]
  },
  {
   "cell_type": "code",
   "execution_count": 22,
   "metadata": {},
   "outputs": [
    {
     "name": "stdout",
     "output_type": "stream",
     "text": [
      "On Earth, a double-decker bus weighs 12650 kg\n",
      "On Mercury, a double-decker bus weighs 4781.7 kg\n"
     ]
    }
   ],
   "source": [
    "#Almacenar numeros tipo float\n",
    "gravity_on_earth = 1.0\n",
    "gravity_on_the_moon = 0.166\n",
    "planets = ['Mercury', 'Venus', 'Earth', 'Mars', 'Jupiter', 'Saturn', 'Uranus', 'Neptune']\n",
    "gravity_on_planets = [0.378, 0.907, 1, 0.379, 2.36, 0.916, 0.889, 1.12]\n",
    "bus_weight = 12650 # in kilograms, on Earth\n",
    "\n",
    "print('On Earth, a double-decker bus weighs', bus_weight, 'kg')\n",
    "print('On Mercury, a double-decker bus weighs', bus_weight * gravity_on_planets[0], 'kg')"
   ]
  },
  {
   "cell_type": "code",
   "execution_count": 8,
   "metadata": {},
   "outputs": [
    {
     "name": "stdout",
     "output_type": "stream",
     "text": [
      "Rebeca es la mas traviesa pero Leonardo es mas hiperactivo\n"
     ]
    }
   ],
   "source": [
    "# Modificar el valor\n",
    "Hijos[1] = 'mas traviesa'\n",
    "print('Rebeca es la', Hijos[1], 'pero', Hijos[0], 'es mas hiperactivo')"
   ]
  },
  {
   "cell_type": "code",
   "execution_count": 10,
   "metadata": {},
   "outputs": [
    {
     "name": "stdout",
     "output_type": "stream",
     "text": [
      "Tengo 3 hijos y son lo mejor.\n"
     ]
    }
   ],
   "source": [
    "# Determinar la longitud de una lista\n",
    "# Funcion len para longitud, puedes crear nueva variable\n",
    "numero_de_hijos = len(Hijos)\n",
    "print('Tengo', numero_de_hijos, 'hijos y son lo mejor.')"
   ]
  },
  {
   "cell_type": "code",
   "execution_count": 11,
   "metadata": {},
   "outputs": [
    {
     "name": "stdout",
     "output_type": "stream",
     "text": [
      "Actualmente somos 4 en nuestra familia.\n"
     ]
    }
   ],
   "source": [
    "# Agregar valores a la lista\n",
    "#Agregar y elimiar elementos despues de crearlos con: .append(value)\n",
    "Hijos.append('Boni el perro')\n",
    "numero_de_hijos = len(Hijos)\n",
    "print('Actualmente somos', numero_de_hijos, 'en nuestra familia.')"
   ]
  },
  {
   "cell_type": "code",
   "execution_count": 13,
   "metadata": {},
   "outputs": [
    {
     "name": "stdout",
     "output_type": "stream",
     "text": [
      "No te creas no tengo perro solo somos 3 pero si me gustaria un perro\n"
     ]
    }
   ],
   "source": [
    "# Eliminar valores de una lista con .pop()\n",
    "Hijos.pop()\n",
    "numero_de_hijos = len(Hijos)\n",
    "print('No te creas, no tengo perro solo somos', numero_de_hijos, 'pero si me gustaria un perro')"
   ]
  },
  {
   "cell_type": "code",
   "execution_count": 14,
   "metadata": {},
   "outputs": [
    {
     "name": "stdout",
     "output_type": "stream",
     "text": [
      "Mi primer hijos es Leonardo\n"
     ]
    }
   ],
   "source": [
    "# Indices negativos\n",
    "print('Mi primer hijos es', Hijos[0])"
   ]
  },
  {
   "cell_type": "code",
   "execution_count": 18,
   "metadata": {},
   "outputs": [
    {
     "name": "stdout",
     "output_type": "stream",
     "text": [
      "Mi ultimo hijo es Fatima\n",
      "Mi penultimo hijo es Leonardo\n"
     ]
    }
   ],
   "source": [
    "#  índices negativos comienzan al final de la lista y trabajan hacia atrás.\n",
    "# un índice de -1 devuelve el último elemento de una lista. Un índice de -2 retorna del penúltimo al último.\n",
    "print('Mi ultimo hijo es', Hijos[-1])\n",
    "print('Mi penultimo hijo es', Hijos[-3])"
   ]
  },
  {
   "cell_type": "code",
   "execution_count": 23,
   "metadata": {},
   "outputs": [
    {
     "name": "stdout",
     "output_type": "stream",
     "text": [
      "On Earth, a double-decker bus weighs 12650 kg\n",
      "The lightest a bus would be in the solar system is 4781.7 kg\n",
      "The heaviest a bus would be in the solar system is 29854.0 kg\n"
     ]
    }
   ],
   "source": [
    "# min() y max() con listas\n",
    "#Funcion max() devuleve el numero mas grande\n",
    "#Funcion min() devuelve el numero mas pequeño\n",
    "bus_weight = 12650 # in kilograms, on Earth\n",
    "\n",
    "print('On Earth, a double-decker bus weighs', bus_weight, 'kg')\n",
    "print('The lightest a bus would be in the solar system is', bus_weight * min(gravity_on_planets), 'kg')\n",
    "print('The heaviest a bus would be in the solar system is', bus_weight * max(gravity_on_planets), 'kg')\n"
   ]
  },
  {
   "cell_type": "code",
   "execution_count": 32,
   "metadata": {},
   "outputs": [
    {
     "name": "stdout",
     "output_type": "stream",
     "text": [
      "['Mercury', 'Venus']\n",
      "['Mars', 'Jupiter', 'Saturn', 'Uranus', 'Neptune']\n"
     ]
    }
   ],
   "source": [
    "#Manipular datos\n",
    "#slice para recuperar lista [:]\n",
    "#Un slice crea una nueva lista\n",
    "planets = ['Mercury', 'Venus', 'Earth', 'Mars', 'Jupiter', 'Saturn', 'Uranus', 'Neptune']\n",
    "planets_before_earth = planets[0:2]\n",
    "print(planets_before_earth)\n",
    "\n",
    "planets_after_earth = planets[3:8]\n",
    "print(planets_after_earth) "
   ]
  },
  {
   "cell_type": "code",
   "execution_count": 33,
   "metadata": {},
   "outputs": [
    {
     "name": "stdout",
     "output_type": "stream",
     "text": [
      "['Mars', 'Jupiter', 'Saturn', 'Uranus', 'Neptune']\n"
     ]
    }
   ],
   "source": [
    "planets_after_earth = planets[3:]\n",
    "print(planets_after_earth)"
   ]
  },
  {
   "cell_type": "code",
   "execution_count": 35,
   "metadata": {},
   "outputs": [
    {
     "name": "stdout",
     "output_type": "stream",
     "text": [
      "The regular satellite moons of Jupiter are ['Metis', 'Adrastea', 'Amalthea', 'Thebe', 'Io', 'Europa', 'Ganymede', 'Callisto']\n"
     ]
    }
   ],
   "source": [
    "# Uniendo listas\n",
    "#Para unir dos listas, utilice el operador (+) con dos listas para devolver una nueva lista.\n",
    "\n",
    "amalthea_group = ['Metis', 'Adrastea', 'Amalthea', 'Thebe']\n",
    "galilean_moons = ['Io', 'Europa', 'Ganymede', 'Callisto']\n",
    "\n",
    "regular_satellite_moons = amalthea_group + galilean_moons\n",
    "print('The regular satellite moons of Jupiter are', regular_satellite_moons)\n"
   ]
  },
  {
   "cell_type": "code",
   "execution_count": 37,
   "metadata": {},
   "outputs": [
    {
     "name": "stdout",
     "output_type": "stream",
     "text": [
      "The regular satellite moons of Jupiter are ['Adrastea', 'Amalthea', 'Callisto', 'Europa', 'Ganymede', 'Io', 'Metis', 'Thebe']\n"
     ]
    }
   ],
   "source": [
    "# Ordenar listas\n",
    "# Método sort() ordenará una lista de cadenas en orden alfabético y una lista de números en orden numérico:\n",
    "regular_satellite_moons.sort()\n",
    "print(\"The regular satellite moons of Jupiter are\", regular_satellite_moons)\n",
    "\n",
    "\n",
    "\n",
    "#ordenar una lista en forma inversa, llamamos al método .sort(reverse=True) de la lista:\n",
    "regular_satellite_moons.sort(reverse=True)\n",
    "print(\"The regular satellite moons of Jupiter are\", regular_satellite_moons)\n",
    "\n",
    "\n",
    "\n",
    "#Al usar el método .sort modificas la lista actual."
   ]
  }
 ],
 "metadata": {
  "interpreter": {
   "hash": "ae305f4dee197bdc0c916b004f5792eca0da2328f3eb5fe8e31b308819fc7eb2"
  },
  "kernelspec": {
   "display_name": "Python 3.10.2 64-bit",
   "language": "python",
   "name": "python3"
  },
  "language_info": {
   "codemirror_mode": {
    "name": "ipython",
    "version": 3
   },
   "file_extension": ".py",
   "mimetype": "text/x-python",
   "name": "python",
   "nbconvert_exporter": "python",
   "pygments_lexer": "ipython3",
   "version": "3.10.2"
  },
  "orig_nbformat": 4
 },
 "nbformat": 4,
 "nbformat_minor": 2
}
