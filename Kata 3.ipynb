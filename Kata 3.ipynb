{
 "cells": [
  {
   "cell_type": "code",
   "execution_count": 49,
   "metadata": {},
   "outputs": [
    {
     "name": "stdout",
     "output_type": "stream",
     "text": [
      "¡ADVERTENCIA ASTEROIDE ACERCANDOCE! Refugiate donde puedas\n"
     ]
    }
   ],
   "source": [
    "# Asteroide acercandose\n",
    "asteroide = 49\n",
    "if asteroide > 25:\n",
    "        print(\"¡ADVERTENCIA ASTEROIDE ACERCANDOCE! Refugiate donde puedas\")\n",
    "elif asteroide < 24:\n",
    "    print(\"La tierra esta a salvo\")\n",
    "elif asteroide >= 25:\n",
    "    print(\"Probabilidad de impacto\")\n",
    "\n"
   ]
  },
  {
   "cell_type": "code",
   "execution_count": 47,
   "metadata": {},
   "outputs": [
    {
     "name": "stdout",
     "output_type": "stream",
     "text": [
      "Hoy no habra espectaculo :(\n"
     ]
    }
   ],
   "source": [
    "# Estelas de luz\n",
    "asteroide = 19\n",
    "if asteroide >= 20:\n",
    "    print(\"Podras ver estela de luz de un asteroide\")\n",
    "else:\n",
    "    print(\"Hoy no habra espectaculo :(\")\n",
    "    \n"
   ]
  },
  {
   "cell_type": "code",
   "execution_count": 79,
   "metadata": {},
   "outputs": [
    {
     "name": "stdout",
     "output_type": "stream",
     "text": [
      "No hay peligro, pero podras ver una estela hermosa que dejara asteroide\n"
     ]
    }
   ],
   "source": [
    "# Operadores and y or\n",
    "Velocidad_asteroide = 1\n",
    "Dimension_asteroide = 25\n",
    "if Velocidad_asteroide < 20 and Dimension_asteroide < 25:\n",
    "    print(\"No hay peligro, pero podras ver una estela hermosa que dejara asteroide\")\n",
    "elif Velocidad_asteroide > 20 and Dimension_asteroide >= 25:\n",
    "    print(\"Peligro asteroide amenaza vida humana\")\n",
    "else:\n",
    "    print(\"No hay peligro, pero podras ver una estela hermosa que dejara asteroide\")\n"
   ]
  }
 ],
 "metadata": {
  "interpreter": {
   "hash": "ae305f4dee197bdc0c916b004f5792eca0da2328f3eb5fe8e31b308819fc7eb2"
  },
  "kernelspec": {
   "display_name": "Python 3.10.2 64-bit",
   "language": "python",
   "name": "python3"
  },
  "language_info": {
   "codemirror_mode": {
    "name": "ipython",
    "version": 3
   },
   "file_extension": ".py",
   "mimetype": "text/x-python",
   "name": "python",
   "nbconvert_exporter": "python",
   "pygments_lexer": "ipython3",
   "version": "3.10.2"
  },
  "orig_nbformat": 4
 },
 "nbformat": 4,
 "nbformat_minor": 2
}
