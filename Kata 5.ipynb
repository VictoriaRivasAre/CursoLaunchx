{
 "cells": [
  {
   "cell_type": "code",
   "execution_count": 8,
   "metadata": {},
   "outputs": [
    {
     "name": "stdout",
     "output_type": "stream",
     "text": [
      "628949330\n",
      "390577534\n"
     ]
    }
   ],
   "source": [
    "Tierra = 149597870\n",
    "Jupiter = 778547200\n",
    "Distancia_planetas = (Tierra - Jupiter)\n",
    "print(abs(Distancia_planetas))\n",
    "Distancia_en_millas = Distancia_planetas * 0.621\n",
    "print(abs(round(Distancia_en_millas)))"
   ]
  },
  {
   "cell_type": "code",
   "execution_count": 31,
   "metadata": {},
   "outputs": [],
   "source": [
    "# Crear aplicacion para trabajar con numeros\n",
    "primer_planeta = int(input('ingresa distancia en kilometros del planeta que quieras'))\n",
    "segundo_planeta = int(input('ingresa distancia en kilometros del planeta que quieras'))"
   ]
  },
  {
   "cell_type": "code",
   "execution_count": 35,
   "metadata": {},
   "outputs": [
    {
     "name": "stdout",
     "output_type": "stream",
     "text": [
      "238371796\n"
     ]
    }
   ],
   "source": [
    "diferencia_KM = primer_planeta - segundo_planeta\n",
    "print(abs(diferencia_KM))"
   ]
  },
  {
   "cell_type": "code",
   "execution_count": 34,
   "metadata": {},
   "outputs": [
    {
     "name": "stdout",
     "output_type": "stream",
     "text": [
      "148028885.31599998\n"
     ]
    }
   ],
   "source": [
    "Distancia_en_millas = diferencia_KM * 0.621\n",
    "print(abs(Distancia_en_millas))"
   ]
  }
 ],
 "metadata": {
  "interpreter": {
   "hash": "ae305f4dee197bdc0c916b004f5792eca0da2328f3eb5fe8e31b308819fc7eb2"
  },
  "kernelspec": {
   "display_name": "Python 3.10.2 64-bit",
   "language": "python",
   "name": "python3"
  },
  "language_info": {
   "codemirror_mode": {
    "name": "ipython",
    "version": 3
   },
   "file_extension": ".py",
   "mimetype": "text/x-python",
   "name": "python",
   "nbconvert_exporter": "python",
   "pygments_lexer": "ipython3",
   "version": "3.10.2"
  },
  "orig_nbformat": 4
 },
 "nbformat": 4,
 "nbformat_minor": 2
}
