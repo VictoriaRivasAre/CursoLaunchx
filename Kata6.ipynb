{
 "cells": [
  {
   "cell_type": "code",
   "execution_count": 6,
   "metadata": {},
   "outputs": [
    {
     "name": "stdout",
     "output_type": "stream",
     "text": [
      "Este es el numero de planetas: ['Mercurio', 'Venus', 'Tierra', 'Marte', 'Jupiter', 'Urano', 'Neptuno', 'Pluton']\n",
      "Numero de planetas son 8 planetas\n",
      "Aunque Pluton cuenta como planeta enano desde el 2006\n"
     ]
    }
   ],
   "source": [
    "# Practica 1\n",
    "planets = ['Mercurio', 'Venus', 'Tierra', 'Marte', 'Jupiter', 'Urano', 'Neptuno']\n",
    "planets.append('Pluton')\n",
    "numero_de_planets = len(planets)\n",
    "print('Este es el numero de planetas:', planets)\n",
    "print('Numero de planetas son', numero_de_planets, 'planetas')\n",
    "print('Aunque', planets[7], 'cuenta como planeta enano desde el 2006')"
   ]
  },
  {
   "cell_type": "code",
   "execution_count": 52,
   "metadata": {},
   "outputs": [
    {
     "name": "stdout",
     "output_type": "stream",
     "text": [
      "Tu planeta Tierra\n"
     ]
    }
   ],
   "source": [
    "# Lista de Datos, practica 2\n",
    "planets = ['Mercurio', 'Venus', 'Tierra', 'Marte', 'Jupiter', 'Urano', 'Neptuno']\n",
    "#Solicitar nombre del planeta\n",
    "nombre_planeta = input('Ingresa el nombre del planeta, comenzando con mayuscula, ejemplo \"Mercurio\"')\n",
    "planeta_index = planets.index(nombre_planeta)\n"
   ]
  },
  {
   "cell_type": "code",
   "execution_count": 54,
   "metadata": {},
   "outputs": [
    {
     "name": "stdout",
     "output_type": "stream",
     "text": [
      "Planetas mas cercanos al solTierra\n",
      "['Mercurio', 'Venus']\n"
     ]
    }
   ],
   "source": [
    "# Mas cercanos al sol\n",
    "print('Planetas mas cercanos al sol que' + nombre_planeta)\n",
    "print(planets[0:planeta_index])  \n"
   ]
  },
  {
   "cell_type": "code",
   "execution_count": 57,
   "metadata": {},
   "outputs": [
    {
     "name": "stdout",
     "output_type": "stream",
     "text": [
      "Planetas mas alejados queTierra\n",
      "['Marte', 'Jupiter', 'Urano', 'Neptuno']\n"
     ]
    }
   ],
   "source": [
    "# Mas alejados del sol\n",
    "print('Planetas mas alejados que' + nombre_planeta)\n",
    "print(planets[planeta_index + 1:])"
   ]
  }
 ],
 "metadata": {
  "interpreter": {
   "hash": "ae305f4dee197bdc0c916b004f5792eca0da2328f3eb5fe8e31b308819fc7eb2"
  },
  "kernelspec": {
   "display_name": "Python 3.10.2 64-bit",
   "language": "python",
   "name": "python3"
  },
  "language_info": {
   "codemirror_mode": {
    "name": "ipython",
    "version": 3
   },
   "file_extension": ".py",
   "mimetype": "text/x-python",
   "name": "python",
   "nbconvert_exporter": "python",
   "pygments_lexer": "ipython3",
   "version": "3.10.2"
  },
  "orig_nbformat": 4
 },
 "nbformat": 4,
 "nbformat_minor": 2
}
